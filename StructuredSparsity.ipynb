{
 "cells": [
  {
   "cell_type": "code",
   "execution_count": 1,
   "metadata": {},
   "outputs": [
    {
     "name": "stdout",
     "output_type": "stream",
     "text": [
      "Populating the interactive namespace from numpy and matplotlib\n"
     ]
    }
   ],
   "source": [
    "%pylab inline"
   ]
  },
  {
   "cell_type": "code",
   "execution_count": 2,
   "metadata": {},
   "outputs": [],
   "source": [
    "prop_cycle = plt.rcParams['axes.prop_cycle']\n",
    "def_colors = prop_cycle.by_key()['color']"
   ]
  },
  {
   "cell_type": "code",
   "execution_count": 3,
   "metadata": {},
   "outputs": [],
   "source": [
    "plt.rc('font', **{'size': 16})\n",
    "#plt.rc('text', **{'latex.preamble': [r'\\usepackage{mathptmx}',]})\n",
    "#matplotlib.rcParams.update({\n",
    "#    'text.usetex': True,\n",
    "#    'text.latex.preamble': [r'\\usepackage{mathptmx}',]})"
   ]
  },
  {
   "cell_type": "markdown",
   "metadata": {},
   "source": [
    "## Generate data"
   ]
  },
  {
   "cell_type": "code",
   "execution_count": 4,
   "metadata": {},
   "outputs": [],
   "source": [
    "num_feats = 1000\n",
    "num_obsvs = 150\n",
    "\n",
    "#num_feats = 50\n",
    "#num_obsvs = 100\n",
    "\n",
    "mod_size = 10\n",
    "\n",
    "num_causl = 10"
   ]
  },
  {
   "cell_type": "code",
   "execution_count": 5,
   "metadata": {},
   "outputs": [],
   "source": [
    "# adjacency matrix\n",
    "W = np.zeros((num_feats, num_feats))\n",
    "for i in range(num_feats/mod_size):\n",
    "    W[i*mod_size:(i+1)*mod_size, i*mod_size:(i+1)*mod_size] = np.ones((mod_size, mod_size))\n",
    "    if not i == (num_feats/mod_size - 1):\n",
    "        W[(i+1)*mod_size-1, (i+1)*mod_size] = 1\n",
    "        W[(i+1)*mod_size, (i+1)*mod_size-1] = 1\n",
    "        \n",
    "# remove the diagonal\n",
    "W = W - np.eye(num_feats)"
   ]
  },
  {
   "cell_type": "code",
   "execution_count": 6,
   "metadata": {},
   "outputs": [
    {
     "data": {
      "text/plain": [
       "<matplotlib.colorbar.Colorbar at 0x7f1cb2b2bd50>"
      ]
     },
     "execution_count": 6,
     "metadata": {},
     "output_type": "execute_result"
    },
    {
     "data": {
      "image/png": "[encoded data removed]",
      "text/plain": [
       "<Figure size 432x288 with 2 Axes>"
      ]
     },
     "metadata": {},
     "output_type": "display_data"
    }
   ],
   "source": [
    "plt.imshow(W)\n",
    "plt.colorbar()"
   ]
  },
  {
   "cell_type": "code",
   "execution_count": 7,
   "metadata": {},
   "outputs": [],
   "source": [
    "# SNPs\n",
    "X = np.random.binomial(1, 0.1, size=(num_obsvs, num_feats))"
   ]
  },
  {
   "cell_type": "code",
   "execution_count": 8,
   "metadata": {},
   "outputs": [
    {
     "name": "stdout",
     "output_type": "stream",
     "text": [
      "[0.19481259 0.23165967 0.25035667 0.18411663 0.2226847  0.17047022\n",
      " 0.28477702 0.13743496 0.08748882 0.23936293]\n"
     ]
    }
   ],
   "source": [
    "# Phenotype\n",
    "w_causl = np.random.normal(loc=0.2, scale=0.05, size=(num_causl))\n",
    "print w_causl\n",
    "\n",
    "w = np.zeros((num_feats, ))\n",
    "w[:num_causl] = w_causl\n",
    "\n",
    "y = np.dot(X, w) + np.random.normal(loc=0., scale=0.1, size=(num_obsvs, ))"
   ]
  },
  {
   "cell_type": "markdown",
   "metadata": {},
   "source": [
    "### Shuffle"
   ]
  },
  {
   "cell_type": "code",
   "execution_count": 9,
   "metadata": {},
   "outputs": [],
   "source": [
    "map_indices_l = range(num_feats)\n",
    "np.random.shuffle(map_indices_l)\n",
    "map_indices = dict(zip(range(num_feats), map_indices_l))\n",
    "map_indices_r = dict(zip(map_indices_l, range(num_feats)))"
   ]
  },
  {
   "cell_type": "code",
   "execution_count": 10,
   "metadata": {},
   "outputs": [],
   "source": [
    "X = X[:, map_indices_l]\n",
    "\n",
    "W_new = W[map_indices_l, :]\n",
    "W_new = W_new[:, map_indices_l]\n",
    "W = W_new\n",
    "\n",
    "causl = [map_indices_r[ix] for ix in range(num_causl)]\n",
    "\n",
    "#plt.imshow(W)"
   ]
  },
  {
   "cell_type": "markdown",
   "metadata": {},
   "source": [
    "## Train-test split"
   ]
  },
  {
   "cell_type": "code",
   "execution_count": 11,
   "metadata": {},
   "outputs": [],
   "source": [
    "from sklearn import model_selection"
   ]
  },
  {
   "cell_type": "code",
   "execution_count": 12,
   "metadata": {},
   "outputs": [],
   "source": [
    "X_train, X_test, y_train, y_test = \\\n",
    "    model_selection.train_test_split(X, y, test_size=0.3, random_state=17)"
   ]
  },
  {
   "cell_type": "markdown",
   "metadata": {},
   "source": [
    "## T-test"
   ]
  },
  {
   "cell_type": "code",
   "execution_count": 13,
   "metadata": {},
   "outputs": [],
   "source": [
    "import statsmodels.api as sm"
   ]
  },
  {
   "cell_type": "code",
   "execution_count": 14,
   "metadata": {},
   "outputs": [],
   "source": [
    "pvalues = []\n",
    "for feat_idx in range(num_feats):\n",
    "    myX = X_train[:, feat_idx]\n",
    "    myX = sm.add_constant(myX)\n",
    "    est = sm.regression.linear_model.OLS(y_train, myX)\n",
    "    est2 = est.fit()\n",
    "    pvalues.append(est2.pvalues[1])\n",
    "pvalues = np.array(pvalues)\n",
    "#print pvalues"
   ]
  },
  {
   "cell_type": "code",
   "execution_count": 15,
   "metadata": {},
   "outputs": [
    {
     "data": {
      "text/plain": [
       "(0, 1000)"
      ]
     },
     "execution_count": 15,
     "metadata": {},
     "output_type": "execute_result"
    },
    {
     "data": {
      "image/png": "[encoded data removed]",
      "text/plain": [
       "<Figure size 432x288 with 1 Axes>"
      ]
     },
     "metadata": {},
     "output_type": "display_data"
    }
   ],
   "source": [
    "fig = plt.figure(figsize(6, 4))\n",
    "\n",
    "plt.scatter(range(num_feats), # x = SNP position\n",
    "            -np.log10(pvalues)) # y = -log10 p-value (the higher the more significant)\n",
    "\n",
    "# Plot the causal SNPs in red\n",
    "#plt.scatter(range(num_causl), \n",
    "#            -np.log10(pvalues[:num_causl]),\n",
    "#            color=def_colors[1])\n",
    "plt.scatter(causl, \n",
    "            -np.log10(pvalues[causl]),\n",
    "            color=def_colors[1])\n",
    "\n",
    "# significance threshold according to Bonferroni correction\n",
    "t = -np.log10(0.05/num_feats)\n",
    "plt.plot([0, num_feats], [t, t], lw=2, c='k')\n",
    "\n",
    "plt.xlabel(\"SNP\", fontsize=18)\n",
    "plt.ylabel(\"-log10 p-value\", fontsize=18)\n",
    "plt.xlim([0, num_feats])\n",
    "\n",
    "#plt.savefig('manhattan.png', bbox_inches='tight')"
   ]
  },
  {
   "cell_type": "markdown",
   "metadata": {},
   "source": [
    "### Validation\n",
    "\n",
    "First of all, no SNP is significant in the study.\n",
    "\n",
    "What is the significance of the true SNPs on the test set?"
   ]
  },
  {
   "cell_type": "code",
   "execution_count": 16,
   "metadata": {},
   "outputs": [
    {
     "name": "stdout",
     "output_type": "stream",
     "text": [
      "[0.00476219 0.00874662 0.01298761 0.95377124 0.30798421 0.25101582\n",
      " 0.23150175 0.25821253 0.23621524 0.01327652]\n"
     ]
    }
   ],
   "source": [
    "pvalues = []\n",
    "for feat_idx in causl:\n",
    "    myX = X_test[:, feat_idx]\n",
    "    myX = sm.add_constant(myX)\n",
    "    est = sm.regression.linear_model.OLS(y_test, myX)\n",
    "    est2 = est.fit()\n",
    "    pvalues.append(est2.pvalues[1])\n",
    "pvalues = np.array(pvalues)\n",
    "print pvalues"
   ]
  },
  {
   "cell_type": "code",
   "execution_count": 17,
   "metadata": {},
   "outputs": [
    {
     "data": {
      "text/plain": [
       "(0, 1000)"
      ]
     },
     "execution_count": 17,
     "metadata": {},
     "output_type": "execute_result"
    },
    {
     "data": {
      "image/png": "[encoded data removed]",
      "text/plain": [
       "<Figure size 432x288 with 1 Axes>"
      ]
     },
     "metadata": {},
     "output_type": "display_data"
    }
   ],
   "source": [
    "fig = plt.figure(figsize(6, 4))\n",
    "\n",
    "plt.scatter(causl, \n",
    "            -np.log10(pvalues),\n",
    "            color=def_colors[1])\n",
    "\n",
    "# significance threshold according to Bonferroni correction\n",
    "t = -np.log10(0.05/len(causl))\n",
    "plt.plot([0, num_feats], [t, t], lw=2, c='k')\n",
    "\n",
    "plt.xlabel(\"SNP\", fontsize=18)\n",
    "plt.ylabel(\"-log10 p-value\", fontsize=18)\n",
    "plt.xlim([0, num_feats])\n",
    "\n",
    "#plt.savefig('manhattan.png', bbox_inches='tight')"
   ]
  },
  {
   "cell_type": "markdown",
   "metadata": {},
   "source": [
    "## Linear regression "
   ]
  },
  {
   "cell_type": "code",
   "execution_count": 18,
   "metadata": {},
   "outputs": [],
   "source": [
    "from sklearn import linear_model"
   ]
  },
  {
   "cell_type": "code",
   "execution_count": 19,
   "metadata": {},
   "outputs": [
    {
     "data": {
      "text/plain": [
       "LinearRegression(copy_X=True, fit_intercept=True, n_jobs=1, normalize=False)"
      ]
     },
     "execution_count": 19,
     "metadata": {},
     "output_type": "execute_result"
    }
   ],
   "source": [
    "model = linear_model.LinearRegression(fit_intercept=True)\n",
    "model.fit(X_train, y_train)"
   ]
  },
  {
   "cell_type": "code",
   "execution_count": 20,
   "metadata": {},
   "outputs": [
    {
     "data": {
      "text/plain": [
       "(0, 1000)"
      ]
     },
     "execution_count": 20,
     "metadata": {},
     "output_type": "execute_result"
    },
    {
     "data": {
      "image/png": "[encoded data removed]",
      "text/plain": [
       "<Figure size 432x288 with 1 Axes>"
      ]
     },
     "metadata": {},
     "output_type": "display_data"
    }
   ],
   "source": [
    "fig = plt.figure(figsize(6, 4))\n",
    "\n",
    "plt.scatter(range(num_feats), # x = SNP position\n",
    "            model.coef_) # y = -log10 p-value (the higher the more significant)\n",
    "\n",
    "# Plot the causal SNPs in red\n",
    "#plt.scatter(range(num_causl), \n",
    "#            -np.log10(pvalues[:num_causl]),\n",
    "#            color='orange')\n",
    "plt.scatter(causl, \n",
    "            model.coef_[causl],\n",
    "            color=def_colors[1])\n",
    "\n",
    "plt.xlabel(\"SNP\", fontsize=18)\n",
    "plt.ylabel(\"regression weight\", fontsize=18)\n",
    "plt.xlim([0, num_feats])\n",
    "\n",
    "#plt.savefig('manhattan.png', bbox_inches='tight')"
   ]
  },
  {
   "cell_type": "markdown",
   "metadata": {},
   "source": [
    "### Validation"
   ]
  },
  {
   "cell_type": "code",
   "execution_count": 21,
   "metadata": {},
   "outputs": [],
   "source": [
    "from sklearn import metrics"
   ]
  },
  {
   "cell_type": "code",
   "execution_count": 22,
   "metadata": {},
   "outputs": [],
   "source": [
    "y_pred = model.predict(X_test)"
   ]
  },
  {
   "cell_type": "code",
   "execution_count": 23,
   "metadata": {},
   "outputs": [],
   "source": [
    "rmse = np.sqrt(metrics.mean_squared_error(y_test, y_pred))"
   ]
  },
  {
   "cell_type": "code",
   "execution_count": 24,
   "metadata": {},
   "outputs": [
    {
     "data": {
      "text/plain": [
       "Text(0,0.8,'RMSE = 0.22')"
      ]
     },
     "execution_count": 24,
     "metadata": {},
     "output_type": "execute_result"
    },
    {
     "data": {
      "image/png": "[encoded data removed]",
      "text/plain": [
       "<Figure size 432x432 with 1 Axes>"
      ]
     },
     "metadata": {},
     "output_type": "display_data"
    }
   ],
   "source": [
    "fig = plt.figure(figsize(6, 6))\n",
    "\n",
    "plt.scatter(y_test, y_pred)\n",
    "\n",
    "plt.xlabel(\"true y\", fontsize=18)\n",
    "plt.ylabel(\"prediction\", fontsize=18)\n",
    "plt.xlim([np.min(y_test)-0.05, np.max(y_test)+0.05])\n",
    "plt.ylim([np.min(y_test)-0.05, np.max(y_test)+0.05])\n",
    "\n",
    "plt.text(0, 0.8, 'RMSE = %.2f' % rmse)\n",
    "\n",
    "#plt.savefig('manhattan.png', bbox_inches='tight')"
   ]
  },
  {
   "cell_type": "markdown",
   "metadata": {},
   "source": [
    "## Lasso "
   ]
  },
  {
   "cell_type": "code",
   "execution_count": 25,
   "metadata": {},
   "outputs": [
    {
     "data": {
      "text/plain": [
       "Lasso(alpha=0.01, copy_X=True, fit_intercept=True, max_iter=1000,\n",
       "   normalize=False, positive=False, precompute=False, random_state=None,\n",
       "   selection='cyclic', tol=0.0001, warm_start=False)"
      ]
     },
     "execution_count": 25,
     "metadata": {},
     "output_type": "execute_result"
    }
   ],
   "source": [
    "model = linear_model.Lasso(fit_intercept=True, alpha=0.01)\n",
    "model.fit(X_train, y_train)"
   ]
  },
  {
   "cell_type": "code",
   "execution_count": 26,
   "metadata": {},
   "outputs": [
    {
     "data": {
      "text/plain": [
       "(0, 1000)"
      ]
     },
     "execution_count": 26,
     "metadata": {},
     "output_type": "execute_result"
    },
    {
     "data": {
      "image/png": "[encoded data removed]",
      "text/plain": [
       "<Figure size 432x288 with 1 Axes>"
      ]
     },
     "metadata": {},
     "output_type": "display_data"
    }
   ],
   "source": [
    "fig = plt.figure(figsize(6, 4))\n",
    "\n",
    "plt.scatter(range(num_feats), # x = SNP position\n",
    "            model.coef_) # y = -log10 p-value (the higher the more significant)\n",
    "\n",
    "# Plot the causal SNPs in red\n",
    "#plt.scatter(range(num_causl), \n",
    "#            -np.log10(pvalues[:num_causl]),\n",
    "#            color='orange')\n",
    "plt.scatter(causl, \n",
    "            model.coef_[causl],\n",
    "            color=def_colors[1])\n",
    "\n",
    "plt.xlabel(\"SNP\", fontsize=18)\n",
    "plt.ylabel(\"lasso weight\", fontsize=18)\n",
    "plt.xlim([0, num_feats])\n",
    "\n",
    "#plt.savefig('manhattan.png', bbox_inches='tight')"
   ]
  },
  {
   "cell_type": "markdown",
   "metadata": {},
   "source": [
    "### Validation"
   ]
  },
  {
   "cell_type": "code",
   "execution_count": 27,
   "metadata": {},
   "outputs": [],
   "source": [
    "y_pred = model.predict(X_test)"
   ]
  },
  {
   "cell_type": "code",
   "execution_count": 28,
   "metadata": {},
   "outputs": [],
   "source": [
    "rmse = np.sqrt(metrics.mean_squared_error(y_test, y_pred))"
   ]
  },
  {
   "cell_type": "code",
   "execution_count": 29,
   "metadata": {},
   "outputs": [
    {
     "data": {
      "text/plain": [
       "Text(0,0.8,'RMSE = 0.16')"
      ]
     },
     "execution_count": 29,
     "metadata": {},
     "output_type": "execute_result"
    },
    {
     "data": {
      "image/png": "[encoded data removed]",
      "text/plain": [
       "<Figure size 432x432 with 1 Axes>"
      ]
     },
     "metadata": {},
     "output_type": "display_data"
    }
   ],
   "source": [
    "fig = plt.figure(figsize(6, 6))\n",
    "\n",
    "plt.scatter(y_test, y_pred)\n",
    "\n",
    "plt.xlabel(\"true y\", fontsize=18)\n",
    "plt.ylabel(\"prediction\", fontsize=18)\n",
    "plt.xlim([np.min(y_test)-0.05, np.max(y_test)+0.05])\n",
    "plt.ylim([np.min(y_test)-0.05, np.max(y_test)+0.05])\n",
    "\n",
    "plt.text(0, 0.8, 'RMSE = %.2f' % rmse)\n",
    "\n",
    "#plt.savefig('manhattan.png', bbox_inches='tight')"
   ]
  },
  {
   "cell_type": "markdown",
   "metadata": {},
   "source": [
    "## Graph Lasso "
   ]
  },
  {
   "cell_type": "markdown",
   "metadata": {},
   "source": [
    "### Laplacian"
   ]
  },
  {
   "cell_type": "code",
   "execution_count": 30,
   "metadata": {},
   "outputs": [],
   "source": [
    "degree = np.sum(W, axis=0)"
   ]
  },
  {
   "cell_type": "code",
   "execution_count": 31,
   "metadata": {},
   "outputs": [],
   "source": [
    "L = np.diag(degree) - W"
   ]
  },
  {
   "cell_type": "code",
   "execution_count": 32,
   "metadata": {},
   "outputs": [],
   "source": [
    "#plt.imshow(L)\n",
    "#plt.colorbar()"
   ]
  },
  {
   "cell_type": "code",
   "execution_count": 33,
   "metadata": {},
   "outputs": [],
   "source": [
    "evals, evecs = np.linalg.eigh(L)"
   ]
  },
  {
   "cell_type": "code",
   "execution_count": 34,
   "metadata": {},
   "outputs": [],
   "source": [
    "evals = np.maximum(0, evals)"
   ]
  },
  {
   "cell_type": "markdown",
   "metadata": {},
   "source": [
    "### Normalized Laplacian"
   ]
  },
  {
   "cell_type": "code",
   "execution_count": 35,
   "metadata": {},
   "outputs": [],
   "source": [
    "degree = np.atleast_2d(degree) # shape: (1, num_feats)\n",
    "\n",
    "normalisation = np.dot(np.atleast_2d(degree).T, np.atleast_2d(degree))\n",
    "\n",
    "L_norm = np.eye(num_feats) - np.array(W, dtype='float')/normalisation"
   ]
  },
  {
   "cell_type": "code",
   "execution_count": 36,
   "metadata": {},
   "outputs": [],
   "source": [
    "#plt.imshow(L_norm)\n",
    "#plt.colorbar()"
   ]
  },
  {
   "cell_type": "code",
   "execution_count": 37,
   "metadata": {},
   "outputs": [],
   "source": [
    "evals_norm, evecs_norm = np.linalg.eigh(L_norm)"
   ]
  },
  {
   "cell_type": "code",
   "execution_count": 38,
   "metadata": {},
   "outputs": [],
   "source": [
    "evals_norm = np.maximum(0, evals_norm)"
   ]
  },
  {
   "cell_type": "markdown",
   "metadata": {},
   "source": [
    "### New variables"
   ]
  },
  {
   "cell_type": "code",
   "execution_count": 39,
   "metadata": {},
   "outputs": [],
   "source": [
    "S = np.dot(evecs, np.diag(evals))"
   ]
  },
  {
   "cell_type": "code",
   "execution_count": 40,
   "metadata": {},
   "outputs": [],
   "source": [
    "#plt.imshow(S)\n",
    "#plt.colorbar()"
   ]
  },
  {
   "cell_type": "code",
   "execution_count": 41,
   "metadata": {},
   "outputs": [],
   "source": [
    "S_norm = np.dot(evecs_norm, np.diag(evals_norm))"
   ]
  },
  {
   "cell_type": "code",
   "execution_count": 42,
   "metadata": {},
   "outputs": [],
   "source": [
    "#plt.imshow(S_norm)\n",
    "#plt.colorbar()"
   ]
  },
  {
   "cell_type": "code",
   "execution_count": 43,
   "metadata": {},
   "outputs": [],
   "source": [
    "#print y.shape\n",
    "#print np.zeros((num_feats, )).shape\n",
    "y_new = np.hstack((y_train, np.zeros((num_feats, ))))\n",
    "#print y_new.shape"
   ]
  },
  {
   "cell_type": "code",
   "execution_count": 44,
   "metadata": {},
   "outputs": [],
   "source": [
    "l1 = 0.001\n",
    "l2 = 10."
   ]
  },
  {
   "cell_type": "code",
   "execution_count": 45,
   "metadata": {},
   "outputs": [],
   "source": [
    "gamma = l1/(np.sqrt(l2+1))"
   ]
  },
  {
   "cell_type": "code",
   "execution_count": 46,
   "metadata": {},
   "outputs": [
    {
     "name": "stdout",
     "output_type": "stream",
     "text": [
      "(1105, 1000)\n"
     ]
    }
   ],
   "source": [
    "X_new = 1/(np.sqrt(l2+1)) * np.vstack((X_train, np.sqrt(l2)*S.T))\n",
    "print X_new.shape"
   ]
  },
  {
   "cell_type": "markdown",
   "metadata": {},
   "source": [
    "### ncLasso"
   ]
  },
  {
   "cell_type": "code",
   "execution_count": 47,
   "metadata": {},
   "outputs": [
    {
     "data": {
      "text/plain": [
       "Lasso(alpha=0.00030151134457776364, copy_X=True, fit_intercept=True,\n",
       "   max_iter=1000, normalize=False, positive=False, precompute=False,\n",
       "   random_state=None, selection='cyclic', tol=0.0001, warm_start=False)"
      ]
     },
     "execution_count": 47,
     "metadata": {},
     "output_type": "execute_result"
    }
   ],
   "source": [
    "model = linear_model.Lasso(fit_intercept=True, alpha=gamma)\n",
    "model.fit(X_new, y_new)"
   ]
  },
  {
   "cell_type": "code",
   "execution_count": 48,
   "metadata": {},
   "outputs": [
    {
     "data": {
      "text/plain": [
       "(0, 1000)"
      ]
     },
     "execution_count": 48,
     "metadata": {},
     "output_type": "execute_result"
    },
    {
     "data": {
      "image/png": "[encoded data removed]",
      "text/plain": [
       "<Figure size 432x288 with 1 Axes>"
      ]
     },
     "metadata": {},
     "output_type": "display_data"
    }
   ],
   "source": [
    "fig = plt.figure(figsize(6, 4))\n",
    "\n",
    "plt.scatter(range(num_feats), # x = SNP position\n",
    "            model.coef_) # y = -log10 p-value (the higher the more significant)\n",
    "\n",
    "# Plot the causal SNPs in red\n",
    "#plt.scatter(range(num_causl), \n",
    "#            -np.log10(pvalues[:num_causl]),\n",
    "#            color='orange')\n",
    "plt.scatter(causl, \n",
    "            model.coef_[causl],\n",
    "            color=def_colors[1])\n",
    "\n",
    "plt.xlabel(\"SNP\", fontsize=18)\n",
    "plt.ylabel(\"ncLasso weight\", fontsize=18)\n",
    "plt.xlim([0, num_feats])\n",
    "\n",
    "#plt.savefig('manhattan.png', bbox_inches='tight')"
   ]
  },
  {
   "cell_type": "markdown",
   "metadata": {},
   "source": [
    "### Validation"
   ]
  },
  {
   "cell_type": "code",
   "execution_count": 49,
   "metadata": {},
   "outputs": [],
   "source": [
    "y_test_new = np.hstack((y_test, np.zeros((num_feats, ))))\n",
    "X_test_new = 1/(np.sqrt(l2+1)) * np.vstack((X_test, np.sqrt(l2)*S.T))"
   ]
  },
  {
   "cell_type": "code",
   "execution_count": null,
   "metadata": {},
   "outputs": [],
   "source": []
  },
  {
   "cell_type": "code",
   "execution_count": 50,
   "metadata": {},
   "outputs": [],
   "source": [
    "y_pred = model.predict(X_test_new)[:y_test.shape[0]]"
   ]
  },
  {
   "cell_type": "code",
   "execution_count": 51,
   "metadata": {},
   "outputs": [],
   "source": [
    "rmse = np.sqrt(metrics.mean_squared_error(y_test, y_pred))"
   ]
  },
  {
   "cell_type": "code",
   "execution_count": 52,
   "metadata": {},
   "outputs": [
    {
     "data": {
      "text/plain": [
       "Text(0,0.8,'RMSE = 0.14')"
      ]
     },
     "execution_count": 52,
     "metadata": {},
     "output_type": "execute_result"
    },
    {
     "data": {
      "image/png": "[encoded data removed]",
      "text/plain": [
       "<Figure size 432x432 with 1 Axes>"
      ]
     },
     "metadata": {},
     "output_type": "display_data"
    }
   ],
   "source": [
    "fig = plt.figure(figsize(6, 6))\n",
    "\n",
    "plt.scatter(y_test, y_pred)\n",
    "\n",
    "plt.xlabel(\"true y\", fontsize=18)\n",
    "plt.ylabel(\"prediction\", fontsize=18)\n",
    "plt.xlim([np.min(y_test)-0.05, np.max(y_test)+0.05])\n",
    "plt.ylim([np.min(y_test)-0.05, np.max(y_test)+0.05])\n",
    "\n",
    "plt.text(0, 0.8, 'RMSE = %.2f' % rmse)\n",
    "\n",
    "#plt.savefig('manhattan.png', bbox_inches='tight')"
   ]
  },
  {
   "cell_type": "markdown",
   "metadata": {},
   "source": [
    "## SConES / sfan"
   ]
  },
  {
   "cell_type": "code",
   "execution_count": 53,
   "metadata": {},
   "outputs": [
    {
     "name": "stdout",
     "output_type": "stream",
     "text": [
      "/home/chagaz/repositories/sfan/code\n"
     ]
    }
   ],
   "source": [
    "cd /home/chagaz/repositories/sfan/code/"
   ]
  },
  {
   "cell_type": "code",
   "execution_count": 54,
   "metadata": {},
   "outputs": [],
   "source": [
    "import tempfile"
   ]
  },
  {
   "cell_type": "markdown",
   "metadata": {},
   "source": [
    "### Create dimacs file from adjacency matrix"
   ]
  },
  {
   "cell_type": "code",
   "execution_count": 55,
   "metadata": {},
   "outputs": [],
   "source": [
    "# TODO include in utilities and commit to sfan\n",
    "def convert_W_to_dimacs(W, dimacs_fname):\n",
    "    num_edges = np.sum(W)\n",
    "    print \"Considering %d edges\" % num_edges\n",
    "    \n",
    "    num_features = W.shape[0]\n",
    "    \n",
    "    with open(dimacs_fname, 'w') as g:\n",
    "        #g.write(\"p max %d %d\\n\" % ((num_features+2), num_edges))\n",
    "        g.write(\"p max %d %d\\n\" % (num_features, num_edges))\n",
    "        #g.write(\"n %d s\\n\" % (num_features+1))\n",
    "        #g.write(\"n %d t\\n\" % (num_features+2))\n",
    "        \n",
    "        for u, v in zip(np.nonzero(W)[0], np.nonzero(W)[1]):\n",
    "            g.write(\"a %d %d %d\\n\" % ((u+1), (v+1), int(W[u, v])))\n",
    "        g.close()"
   ]
  },
  {
   "cell_type": "code",
   "execution_count": 56,
   "metadata": {},
   "outputs": [],
   "source": [
    "w_fh, w_fname = tempfile.mkstemp(suffix='network.dimacs')"
   ]
  },
  {
   "cell_type": "code",
   "execution_count": 57,
   "metadata": {},
   "outputs": [
    {
     "name": "stdout",
     "output_type": "stream",
     "text": [
      "/tmp/tmpVJlI6Unetwork.dimacs\n"
     ]
    }
   ],
   "source": [
    "print w_fname"
   ]
  },
  {
   "cell_type": "code",
   "execution_count": 58,
   "metadata": {},
   "outputs": [
    {
     "name": "stdout",
     "output_type": "stream",
     "text": [
      "Considering 9198 edges\n"
     ]
    }
   ],
   "source": [
    "convert_W_to_dimacs(W, w_fname) "
   ]
  },
  {
   "cell_type": "markdown",
   "metadata": {},
   "source": [
    "### Create node weights file from t-test"
   ]
  },
  {
   "cell_type": "code",
   "execution_count": 59,
   "metadata": {},
   "outputs": [],
   "source": [
    "# TODO include in utilities and commit to sfan\n",
    "def compute_node_weights(X, y, node_weights_fname):\n",
    "    num_features = X.shape[1]\n",
    "    \n",
    "    with open(node_weights_fname, 'w') as g:\n",
    "        for feat_idx in range(num_features):\n",
    "            myX = X[:, feat_idx]\n",
    "            myX = sm.add_constant(myX)\n",
    "            est = sm.regression.linear_model.OLS(y, myX)\n",
    "            est2 = est.fit()\n",
    "            g.write(\"%.3e\\n\" % np.abs(est2.tvalues[1]))\n",
    "        g.close()"
   ]
  },
  {
   "cell_type": "code",
   "execution_count": 60,
   "metadata": {},
   "outputs": [],
   "source": [
    "c_fh, c_fname = tempfile.mkstemp(suffix='scores_0.txt')"
   ]
  },
  {
   "cell_type": "code",
   "execution_count": 61,
   "metadata": {},
   "outputs": [
    {
     "name": "stdout",
     "output_type": "stream",
     "text": [
      "/tmp/tmpjWy2QEscores_0.txt\n"
     ]
    }
   ],
   "source": [
    "print c_fname"
   ]
  },
  {
   "cell_type": "code",
   "execution_count": 62,
   "metadata": {},
   "outputs": [],
   "source": [
    "compute_node_weights(X, y, c_fname)"
   ]
  },
  {
   "cell_type": "markdown",
   "metadata": {},
   "source": [
    "### Initialize sfan\n",
    " TODO Replace with calling from the command line ?"
   ]
  },
  {
   "cell_type": "code",
   "execution_count": 63,
   "metadata": {},
   "outputs": [],
   "source": [
    "from multitask_sfan import Sfan "
   ]
  },
  {
   "cell_type": "code",
   "execution_count": 64,
   "metadata": {},
   "outputs": [],
   "source": [
    "model = Sfan(1, [w_fname], [c_fname], 2., 1.)"
   ]
  },
  {
   "cell_type": "code",
   "execution_count": 65,
   "metadata": {},
   "outputs": [
    {
     "data": {
      "text/plain": [
       "[18.215378]"
      ]
     },
     "execution_count": 65,
     "metadata": {},
     "output_type": "execute_result"
    }
   ],
   "source": [
    "# Generate super-network in dimacs format\n",
    "model.create_dimacs()"
   ]
  },
  {
   "cell_type": "markdown",
   "metadata": {},
   "source": [
    "### Run sfan "
   ]
  },
  {
   "cell_type": "code",
   "execution_count": null,
   "metadata": {},
   "outputs": [],
   "source": [
    "model.run_maxflow()"
   ]
  },
  {
   "cell_type": "markdown",
   "metadata": {},
   "source": [
    "### Get selected SNPS"
   ]
  },
  {
   "cell_type": "code",
   "execution_count": 1,
   "metadata": {},
   "outputs": [
    {
     "ename": "NameError",
     "evalue": "name 'causl' is not defined",
     "output_type": "error",
     "traceback": [
      "\u001b[1;31m---------------------------------------------------------------------------\u001b[0m",
      "\u001b[1;31mNameError\u001b[0m                                 Traceback (most recent call last)",
      "\u001b[1;32m<ipython-input-1-c38414ed97cd>\u001b[0m in \u001b[0;36m<module>\u001b[1;34m()\u001b[0m\n\u001b[1;32m----> 1\u001b[1;33m \u001b[0mcausl\u001b[0m\u001b[1;33m\u001b[0m\u001b[0m\n\u001b[0m",
      "\u001b[1;31mNameError\u001b[0m: name 'causl' is not defined"
     ]
    }
   ],
   "source": [
    "causl"
   ]
  },
  {
   "cell_type": "markdown",
   "metadata": {},
   "source": [
    "### Plot selected SNPS"
   ]
  },
  {
   "cell_type": "code",
   "execution_count": null,
   "metadata": {},
   "outputs": [],
   "source": []
  },
  {
   "cell_type": "markdown",
   "metadata": {},
   "source": [
    "## Clean up"
   ]
  },
  {
   "cell_type": "code",
   "execution_count": null,
   "metadata": {},
   "outputs": [],
   "source": [
    "import os\n",
    "os.remove(c_fname)\n",
    "os.remove(w_fname)"
   ]
  }
 ],
 "metadata": {
  "kernelspec": {
   "display_name": "Python 2",
   "language": "python",
   "name": "python2"
  },
  "language_info": {
   "codemirror_mode": {
    "name": "ipython",
    "version": 2
   },
   "file_extension": ".py",
   "mimetype": "text/x-python",
   "name": "python",
   "nbconvert_exporter": "python",
   "pygments_lexer": "ipython2",
   "version": "2.7.12"
  }
 },
 "nbformat": 4,
 "nbformat_minor": 2
}
