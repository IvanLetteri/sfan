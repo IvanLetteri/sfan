{
 "cells": [
  {
   "cell_type": "code",
   "execution_count": 1,
   "metadata": {},
   "outputs": [
    {
     "name": "stdout",
     "output_type": "stream",
     "text": [
      "Populating the interactive namespace from numpy and matplotlib\n"
     ]
    }
   ],
   "source": [
    "%pylab inline"
   ]
  },
  {
   "cell_type": "code",
   "execution_count": 51,
   "metadata": {},
   "outputs": [],
   "source": [
    "prop_cycle = plt.rcParams['axes.prop_cycle']\n",
    "def_colors = prop_cycle.by_key()['color']"
   ]
  },
  {
   "cell_type": "code",
   "execution_count": 54,
   "metadata": {},
   "outputs": [],
   "source": [
    "plt.rc('font', **{'size': 16})\n",
    "#plt.rc('text', **{'latex.preamble': [r'\\usepackage{mathptmx}',]})\n",
    "#matplotlib.rcParams.update({\n",
    "#    'text.usetex': True,\n",
    "#    'text.latex.preamble': [r'\\usepackage{mathptmx}',]})"
   ]
  },
  {
   "cell_type": "markdown",
   "metadata": {},
   "source": [
    "## Generate data"
   ]
  },
  {
   "cell_type": "code",
   "execution_count": 338,
   "metadata": {},
   "outputs": [],
   "source": [
    "num_feats = 1000\n",
    "num_obsvs = 150\n",
    "\n",
    "#num_feats = 50\n",
    "#num_obsvs = 100\n",
    "\n",
    "mod_size = 10\n",
    "\n",
    "num_causl = 10"
   ]
  },
  {
   "cell_type": "code",
   "execution_count": 339,
   "metadata": {},
   "outputs": [],
   "source": [
    "# adjacency matrix\n",
    "W = np.zeros((num_feats, num_feats))\n",
    "for i in range(num_feats/mod_size):\n",
    "    W[i*mod_size:(i+1)*mod_size, i*mod_size:(i+1)*mod_size] = np.ones((mod_size, mod_size))\n",
    "    if not i == (num_feats/mod_size - 1):\n",
    "        W[(i+1)*mod_size-1, (i+1)*mod_size] = 1\n",
    "        W[(i+1)*mod_size, (i+1)*mod_size-1] = 1\n",
    "        \n",
    "# remove the diagonal\n",
    "W = W - np.eye(num_feats)"
   ]
  },
  {
   "cell_type": "code",
   "execution_count": 277,
   "metadata": {},
   "outputs": [
    {
     "data": {
      "text/plain": [
       "<matplotlib.colorbar.Colorbar at 0x7f453c44d650>"
      ]
     },
     "execution_count": 277,
     "metadata": {},
     "output_type": "execute_result"
    },
    {
     "data": {
      "image/png": "[encoded data removed]",
      "text/plain": [
       "<matplotlib.figure.Figure at 0x7f453c5c83d0>"
      ]
     },
     "metadata": {},
     "output_type": "display_data"
    }
   ],
   "source": [
    "#plt.imshow(W)\n",
    "#plt.colorbar()"
   ]
  },
  {
   "cell_type": "code",
   "execution_count": 340,
   "metadata": {},
   "outputs": [],
   "source": [
    "# SNPs\n",
    "X = np.random.binomial(1, 0.1, size=(num_obsvs, num_feats))"
   ]
  },
  {
   "cell_type": "code",
   "execution_count": 341,
   "metadata": {},
   "outputs": [
    {
     "name": "stdout",
     "output_type": "stream",
     "text": [
      "[ 0.11329858  0.2564122   0.15208523  0.19662529  0.18835212  0.21108928\n",
      "  0.25107188  0.18346123  0.22123546  0.19299148]\n"
     ]
    }
   ],
   "source": [
    "# Phenotype\n",
    "w_causl = np.random.normal(loc=0.2, scale=0.05, size=(num_causl))\n",
    "print w_causl\n",
    "\n",
    "w = np.zeros((num_feats, ))\n",
    "w[:num_causl] = w_causl\n",
    "\n",
    "y = np.dot(X, w) + np.random.normal(loc=0., scale=0.1, size=(num_obsvs, ))"
   ]
  },
  {
   "cell_type": "markdown",
   "metadata": {},
   "source": [
    "### Shuffle"
   ]
  },
  {
   "cell_type": "code",
   "execution_count": 342,
   "metadata": {},
   "outputs": [],
   "source": [
    "map_indices_l = range(num_feats)\n",
    "np.random.shuffle(map_indices_l)\n",
    "map_indices = dict(zip(range(num_feats), map_indices_l))\n",
    "map_indices_r = dict(zip(map_indices_l, range(num_feats)))"
   ]
  },
  {
   "cell_type": "code",
   "execution_count": 343,
   "metadata": {},
   "outputs": [],
   "source": [
    "X = X[:, map_indices_l]\n",
    "\n",
    "W_new = W[map_indices_l, :]\n",
    "W_new = W_new[:, map_indices_l]\n",
    "W = W_new\n",
    "\n",
    "causl = [map_indices_r[ix] for ix in range(num_causl)]\n",
    "\n",
    "#plt.imshow(W)"
   ]
  },
  {
   "cell_type": "markdown",
   "metadata": {},
   "source": [
    "## T-test"
   ]
  },
  {
   "cell_type": "code",
   "execution_count": 344,
   "metadata": {},
   "outputs": [],
   "source": [
    "import statsmodels.api as sm"
   ]
  },
  {
   "cell_type": "code",
   "execution_count": 345,
   "metadata": {},
   "outputs": [],
   "source": [
    "pvalues = []\n",
    "for feat_idx in range(num_feats):\n",
    "    myX = X[:, feat_idx]\n",
    "    myX = sm.add_constant(myX)\n",
    "    est = smr.linear_model.OLS(y, myX)\n",
    "    est2 = est.fit()\n",
    "    pvalues.append(est2.pvalues[1])\n",
    "pvalues = np.array(pvalues)\n",
    "#print pvalues"
   ]
  },
  {
   "cell_type": "code",
   "execution_count": 346,
   "metadata": {},
   "outputs": [
    {
     "data": {
      "text/plain": [
       "(0, 1000)"
      ]
     },
     "execution_count": 346,
     "metadata": {},
     "output_type": "execute_result"
    },
    {
     "data": {
      "image/png": "[encoded data removed]",
      "text/plain": [
       "<matplotlib.figure.Figure at 0x7f453bb4f390>"
      ]
     },
     "metadata": {},
     "output_type": "display_data"
    }
   ],
   "source": [
    "fig = plt.figure(figsize(6, 4))\n",
    "\n",
    "plt.scatter(range(num_feats), # x = SNP position\n",
    "            -np.log10(pvalues)) # y = -log10 p-value (the higher the more significant)\n",
    "\n",
    "# Plot the causal SNPs in red\n",
    "#plt.scatter(range(num_causl), \n",
    "#            -np.log10(pvalues[:num_causl]),\n",
    "#            color=def_colors[1])\n",
    "plt.scatter(causl, \n",
    "            -np.log10(pvalues[causl]),\n",
    "            color=def_colors[1])\n",
    "\n",
    "# significance threshold according to Bonferroni correction\n",
    "t = -np.log10(0.05/num_feats)\n",
    "plt.plot([0, num_feats], [t, t], lw=2, c='k')\n",
    "\n",
    "plt.xlabel(\"SNP\", fontsize=18)\n",
    "plt.ylabel(\"-log10 p-value\", fontsize=18)\n",
    "plt.xlim([0, num_feats])\n",
    "\n",
    "#plt.savefig('manhattan.png', bbox_inches='tight')\n"
   ]
  },
  {
   "cell_type": "markdown",
   "metadata": {},
   "source": [
    "## Linear regression "
   ]
  },
  {
   "cell_type": "code",
   "execution_count": 156,
   "metadata": {},
   "outputs": [],
   "source": [
    "from sklearn import linear_model"
   ]
  },
  {
   "cell_type": "code",
   "execution_count": 347,
   "metadata": {},
   "outputs": [
    {
     "data": {
      "text/plain": [
       "LinearRegression(copy_X=True, fit_intercept=True, n_jobs=1, normalize=False)"
      ]
     },
     "execution_count": 347,
     "metadata": {},
     "output_type": "execute_result"
    }
   ],
   "source": [
    "model = linear_model.LinearRegression(fit_intercept=True)\n",
    "model.fit(X, y)"
   ]
  },
  {
   "cell_type": "code",
   "execution_count": 348,
   "metadata": {},
   "outputs": [
    {
     "data": {
      "text/plain": [
       "(0, 1000)"
      ]
     },
     "execution_count": 348,
     "metadata": {},
     "output_type": "execute_result"
    },
    {
     "data": {
      "image/png": "[encoded data removed]",
      "text/plain": [
       "<matplotlib.figure.Figure at 0x7f453babda10>"
      ]
     },
     "metadata": {},
     "output_type": "display_data"
    }
   ],
   "source": [
    "fig = plt.figure(figsize(6, 4))\n",
    "\n",
    "plt.scatter(range(num_feats), # x = SNP position\n",
    "            model.coef_) # y = -log10 p-value (the higher the more significant)\n",
    "\n",
    "# Plot the causal SNPs in red\n",
    "#plt.scatter(range(num_causl), \n",
    "#            -np.log10(pvalues[:num_causl]),\n",
    "#            color='orange')\n",
    "plt.scatter(causl, \n",
    "            model.coef_[causl],\n",
    "            color=def_colors[1])\n",
    "\n",
    "plt.xlabel(\"SNP\", fontsize=18)\n",
    "plt.ylabel(\"regression weight\", fontsize=18)\n",
    "plt.xlim([0, num_feats])\n",
    "\n",
    "#plt.savefig('manhattan.png', bbox_inches='tight')"
   ]
  },
  {
   "cell_type": "markdown",
   "metadata": {},
   "source": [
    "## Lasso "
   ]
  },
  {
   "cell_type": "code",
   "execution_count": 349,
   "metadata": {},
   "outputs": [
    {
     "data": {
      "text/plain": [
       "Lasso(alpha=0.01, copy_X=True, fit_intercept=True, max_iter=1000,\n",
       "   normalize=False, positive=False, precompute=False, random_state=None,\n",
       "   selection='cyclic', tol=0.0001, warm_start=False)"
      ]
     },
     "execution_count": 349,
     "metadata": {},
     "output_type": "execute_result"
    }
   ],
   "source": [
    "model = linear_model.Lasso(fit_intercept=True, alpha=0.01)\n",
    "model.fit(X, y)"
   ]
  },
  {
   "cell_type": "code",
   "execution_count": 350,
   "metadata": {},
   "outputs": [
    {
     "data": {
      "text/plain": [
       "(0, 1000)"
      ]
     },
     "execution_count": 350,
     "metadata": {},
     "output_type": "execute_result"
    },
    {
     "data": {
      "image/png": "[encoded data removed]",
      "text/plain": [
       "<matplotlib.figure.Figure at 0x7f453ba146d0>"
      ]
     },
     "metadata": {},
     "output_type": "display_data"
    }
   ],
   "source": [
    "fig = plt.figure(figsize(6, 4))\n",
    "\n",
    "plt.scatter(range(num_feats), # x = SNP position\n",
    "            model.coef_) # y = -log10 p-value (the higher the more significant)\n",
    "\n",
    "# Plot the causal SNPs in red\n",
    "#plt.scatter(range(num_causl), \n",
    "#            -np.log10(pvalues[:num_causl]),\n",
    "#            color='orange')\n",
    "plt.scatter(causl, \n",
    "            model.coef_[causl],\n",
    "            color=def_colors[1])\n",
    "\n",
    "plt.xlabel(\"SNP\", fontsize=18)\n",
    "plt.ylabel(\"lasso weight\", fontsize=18)\n",
    "plt.xlim([0, num_feats])\n",
    "\n",
    "#plt.savefig('manhattan.png', bbox_inches='tight')"
   ]
  },
  {
   "cell_type": "markdown",
   "metadata": {},
   "source": [
    "## Graph Lasso "
   ]
  },
  {
   "cell_type": "markdown",
   "metadata": {},
   "source": [
    "### Laplacian"
   ]
  },
  {
   "cell_type": "code",
   "execution_count": 351,
   "metadata": {},
   "outputs": [],
   "source": [
    "degree = np.sum(W, axis=0)"
   ]
  },
  {
   "cell_type": "code",
   "execution_count": 352,
   "metadata": {},
   "outputs": [],
   "source": [
    "L = np.diag(degree) - W"
   ]
  },
  {
   "cell_type": "code",
   "execution_count": 284,
   "metadata": {},
   "outputs": [
    {
     "data": {
      "text/plain": [
       "<matplotlib.colorbar.Colorbar at 0x7f453c30f6d0>"
      ]
     },
     "execution_count": 284,
     "metadata": {},
     "output_type": "execute_result"
    },
    {
     "data": {
      "image/png": "[encoded data removed]",
      "text/plain": [
       "<matplotlib.figure.Figure at 0x7f453c8f2450>"
      ]
     },
     "metadata": {},
     "output_type": "display_data"
    }
   ],
   "source": [
    "#plt.imshow(L)\n",
    "#plt.colorbar()"
   ]
  },
  {
   "cell_type": "code",
   "execution_count": 366,
   "metadata": {},
   "outputs": [],
   "source": [
    "evals, evecs = np.linalg.eigh(L)"
   ]
  },
  {
   "cell_type": "code",
   "execution_count": 367,
   "metadata": {},
   "outputs": [],
   "source": [
    "evals = np.maximum(0, evals)"
   ]
  },
  {
   "cell_type": "markdown",
   "metadata": {},
   "source": [
    "### Normalized Laplacian"
   ]
  },
  {
   "cell_type": "code",
   "execution_count": 355,
   "metadata": {},
   "outputs": [],
   "source": [
    "degree = np.atleast_2d(degree) # shape: (1, num_feats)\n",
    "\n",
    "normalisation = np.dot(np.atleast_2d(degree).T, np.atleast_2d(degree))\n",
    "\n",
    "L_norm = np.eye(num_feats) - np.array(W, dtype='float')/normalisation"
   ]
  },
  {
   "cell_type": "code",
   "execution_count": 288,
   "metadata": {},
   "outputs": [
    {
     "data": {
      "text/plain": [
       "<matplotlib.colorbar.Colorbar at 0x7f453c1d5850>"
      ]
     },
     "execution_count": 288,
     "metadata": {},
     "output_type": "execute_result"
    },
    {
     "data": {
      "image/png": "[encoded data removed]",
      "text/plain": [
       "<matplotlib.figure.Figure at 0x7f453c345850>"
      ]
     },
     "metadata": {},
     "output_type": "display_data"
    }
   ],
   "source": [
    "#plt.imshow(L_norm)\n",
    "#plt.colorbar()"
   ]
  },
  {
   "cell_type": "code",
   "execution_count": 356,
   "metadata": {},
   "outputs": [],
   "source": [
    "evals_norm, evecs_norm = np.linalg.eigh(L_norm)"
   ]
  },
  {
   "cell_type": "code",
   "execution_count": 357,
   "metadata": {},
   "outputs": [],
   "source": [
    "evals_norm = np.maximum(0, evals_norm)"
   ]
  },
  {
   "cell_type": "markdown",
   "metadata": {},
   "source": [
    "### New variables"
   ]
  },
  {
   "cell_type": "code",
   "execution_count": 368,
   "metadata": {},
   "outputs": [],
   "source": [
    "S = np.dot(evecs, np.diag(evals))"
   ]
  },
  {
   "cell_type": "code",
   "execution_count": 297,
   "metadata": {},
   "outputs": [
    {
     "data": {
      "text/plain": [
       "<matplotlib.colorbar.Colorbar at 0x7f453bf9f750>"
      ]
     },
     "execution_count": 297,
     "metadata": {},
     "output_type": "execute_result"
    },
    {
     "data": {
      "image/png": "[encoded data removed]",
      "text/plain": [
       "<matplotlib.figure.Figure at 0x7f453c7a2990>"
      ]
     },
     "metadata": {},
     "output_type": "display_data"
    }
   ],
   "source": [
    "#plt.imshow(S)\n",
    "#plt.colorbar()"
   ]
  },
  {
   "cell_type": "code",
   "execution_count": 359,
   "metadata": {},
   "outputs": [],
   "source": [
    "S_norm = np.dot(evecs_norm, np.diag(evals_norm))"
   ]
  },
  {
   "cell_type": "code",
   "execution_count": 299,
   "metadata": {},
   "outputs": [
    {
     "data": {
      "text/plain": [
       "<matplotlib.colorbar.Colorbar at 0x7f453be6f4d0>"
      ]
     },
     "execution_count": 299,
     "metadata": {},
     "output_type": "execute_result"
    },
    {
     "data": {
      "image/png": "[encoded data removed]",
      "text/plain": [
       "<matplotlib.figure.Figure at 0x7f453c764190>"
      ]
     },
     "metadata": {},
     "output_type": "display_data"
    }
   ],
   "source": [
    "#plt.imshow(S_norm)\n",
    "#plt.colorbar()"
   ]
  },
  {
   "cell_type": "code",
   "execution_count": 360,
   "metadata": {},
   "outputs": [],
   "source": [
    "#print y.shape\n",
    "#print np.zeros((num_feats, )).shape\n",
    "y_new = np.hstack((y, np.zeros((num_feats, ))))\n",
    "#print y_new.shape"
   ]
  },
  {
   "cell_type": "code",
   "execution_count": 473,
   "metadata": {},
   "outputs": [],
   "source": [
    "l1 = 0.001\n",
    "l2 = 10."
   ]
  },
  {
   "cell_type": "code",
   "execution_count": 474,
   "metadata": {},
   "outputs": [],
   "source": [
    "gamma = l1/(np.sqrt(l2+1))"
   ]
  },
  {
   "cell_type": "code",
   "execution_count": 475,
   "metadata": {},
   "outputs": [
    {
     "name": "stdout",
     "output_type": "stream",
     "text": [
      "(1150, 1000)\n"
     ]
    }
   ],
   "source": [
    "X_new = 1/(np.sqrt(l2+1)) * np.vstack((X, np.sqrt(l2)*S.T))\n",
    "print X_new.shape"
   ]
  },
  {
   "cell_type": "markdown",
   "metadata": {},
   "source": [
    "### ncLasso"
   ]
  },
  {
   "cell_type": "code",
   "execution_count": 476,
   "metadata": {},
   "outputs": [
    {
     "data": {
      "text/plain": [
       "Lasso(alpha=0.00030151134457776364, copy_X=True, fit_intercept=True,\n",
       "   max_iter=1000, normalize=False, positive=False, precompute=False,\n",
       "   random_state=None, selection='cyclic', tol=0.0001, warm_start=False)"
      ]
     },
     "execution_count": 476,
     "metadata": {},
     "output_type": "execute_result"
    }
   ],
   "source": [
    "model = linear_model.Lasso(fit_intercept=True, alpha=gamma)\n",
    "model.fit(X_new, y_new)"
   ]
  },
  {
   "cell_type": "code",
   "execution_count": 477,
   "metadata": {},
   "outputs": [
    {
     "data": {
      "text/plain": [
       "(0, 1000)"
      ]
     },
     "execution_count": 477,
     "metadata": {},
     "output_type": "execute_result"
    },
    {
     "data": {
      "image/png": "[encoded data removed]",
      "text/plain": [
       "<matplotlib.figure.Figure at 0x7f453b7fa750>"
      ]
     },
     "metadata": {},
     "output_type": "display_data"
    }
   ],
   "source": [
    "fig = plt.figure(figsize(6, 4))\n",
    "\n",
    "plt.scatter(range(num_feats), # x = SNP position\n",
    "            model.coef_) # y = -log10 p-value (the higher the more significant)\n",
    "\n",
    "# Plot the causal SNPs in red\n",
    "#plt.scatter(range(num_causl), \n",
    "#            -np.log10(pvalues[:num_causl]),\n",
    "#            color='orange')\n",
    "plt.scatter(causl, \n",
    "            model.coef_[causl],\n",
    "            color=def_colors[1])\n",
    "\n",
    "plt.xlabel(\"SNP\", fontsize=18)\n",
    "plt.ylabel(\"ncLasso weight\", fontsize=18)\n",
    "plt.xlim([0, num_feats])\n",
    "\n",
    "#plt.savefig('manhattan.png', bbox_inches='tight')"
   ]
  },
  {
   "cell_type": "markdown",
   "metadata": {},
   "source": [
    "## SConES / sfan"
   ]
  },
  {
   "cell_type": "code",
   "execution_count": 478,
   "metadata": {},
   "outputs": [
    {
     "name": "stdout",
     "output_type": "stream",
     "text": [
      "/home/cazencott/Research/Projects/sfan/code\n"
     ]
    }
   ],
   "source": [
    "cd /home/cazencott/Research/Projects/sfan/code/"
   ]
  },
  {
   "cell_type": "markdown",
   "metadata": {},
   "source": [
    "### Create dimacs file from adjacency matrix"
   ]
  },
  {
   "cell_type": "code",
   "execution_count": 481,
   "metadata": {},
   "outputs": [
    {
     "data": {
      "text/plain": [
       "(array([  0,   0,   0, ..., 999, 999, 999]),\n",
       " array([145, 147, 296, ..., 414, 466, 652]))"
      ]
     },
     "execution_count": 481,
     "metadata": {},
     "output_type": "execute_result"
    }
   ],
   "source": [
    "np.nonzero(W)"
   ]
  },
  {
   "cell_type": "code",
   "execution_count": 484,
   "metadata": {},
   "outputs": [],
   "source": [
    "# TODO include in utilities and commit to sfan\n",
    "def convert_W_to_dimacs(W, dimacs_fname):\n",
    "    num_edges = np.sum(W)\n",
    "    print \"Considering %d edges\" % num_edges\n",
    "    \n",
    "    num_features = W.shape[0]\n",
    "    \n",
    "    with open(dimacs_fname, 'w') as g:\n",
    "        g.write(\"p max %d %d\\n\" % ((num_features+2), num_edges))\n",
    "        g.write(\"n %d s\\n\" % (num_features+1))\n",
    "        g.write(\"n %d t\\n\" % (num_features+2))\n",
    "        \n",
    "        for u, v in zip(np.nonzero(W)[0], np.nonzero(W)[1]):\n",
    "            g.write(\"a %d %d %s\\n\" % (u, v, W[u, v]))\n",
    "        g.close()"
   ]
  },
  {
   "cell_type": "code",
   "execution_count": 501,
   "metadata": {},
   "outputs": [
    {
     "name": "stdout",
     "output_type": "stream",
     "text": [
      "Considering 9198 edges\n"
     ]
    }
   ],
   "source": [
    "convert_W_to_dimacs(W, 'tmp_test.network.dimacs') # TODO actual temporary file name"
   ]
  },
  {
   "cell_type": "markdown",
   "metadata": {},
   "source": [
    "### Create node weights file from t-test"
   ]
  },
  {
   "cell_type": "code",
   "execution_count": 488,
   "metadata": {},
   "outputs": [],
   "source": [
    "# TODO include in utilities and commit to sfan\n",
    "def compute_node_weights(X, y, node_weights_fname):\n",
    "    num_features = X.shape[1]\n",
    "    \n",
    "    with open(node_weights_fname, 'w') as g:\n",
    "        for feat_idx in range(num_features):\n",
    "            myX = X[:, feat_idx]\n",
    "            myX = sm.add_constant(myX)\n",
    "            est = smr.linear_model.OLS(y, myX)\n",
    "            est2 = est.fit()\n",
    "            g.write(\"%.3e\" % est2.tvalues[1])\n",
    "        g.close()"
   ]
  },
  {
   "cell_type": "code",
   "execution_count": 489,
   "metadata": {},
   "outputs": [],
   "source": [
    "compute_node_weights(X, y, 'tmp_test_C.scores_0.txt')"
   ]
  },
  {
   "cell_type": "markdown",
   "metadata": {},
   "source": [
    "### Initialize sfan"
   ]
  },
  {
   "cell_type": "code",
   "execution_count": 490,
   "metadata": {},
   "outputs": [],
   "source": [
    "from multitask_sfan import Sfan "
   ]
  },
  {
   "cell_type": "code",
   "execution_count": 504,
   "metadata": {},
   "outputs": [],
   "source": [
    "dimacs_f = 'tmp_test.network.dimacs'\n",
    "node_weights_f = 'tmp_test_C.scores_0.txt'\n",
    "model = Sfan(1, [dimacs_f], [node_weights_f], 0.1, 0.1)"
   ]
  },
  {
   "cell_type": "markdown",
   "metadata": {},
   "source": [
    "### Run sfan "
   ]
  },
  {
   "cell_type": "code",
   "execution_count": 506,
   "metadata": {},
   "outputs": [
    {
     "ename": "AttributeError",
     "evalue": "'Sfan' object has no attribute 'dimacs_graph'",
     "output_type": "error",
     "traceback": [
      "\u001b[1;31m---------------------------------------------------------------------------\u001b[0m",
      "\u001b[1;31mAttributeError\u001b[0m                            Traceback (most recent call last)",
      "\u001b[1;32m<ipython-input-506-32d66b66c95f>\u001b[0m in \u001b[0;36m<module>\u001b[1;34m()\u001b[0m\n\u001b[1;32m----> 1\u001b[1;33m \u001b[0mmodel\u001b[0m\u001b[1;33m.\u001b[0m\u001b[0mrun_maxflow\u001b[0m\u001b[1;33m(\u001b[0m\u001b[1;33m)\u001b[0m\u001b[1;33m\u001b[0m\u001b[0m\n\u001b[0m",
      "\u001b[1;32m/home/cazencott/Research/Projects/sfan/code/multitask_sfan.py\u001b[0m in \u001b[0;36mrun_maxflow\u001b[1;34m(self)\u001b[0m\n\u001b[0;32m    680\u001b[0m         \"\"\"\n\u001b[0;32m    681\u001b[0m         \u001b[1;31m# Pass super network to gt_maxflow\u001b[0m\u001b[1;33m\u001b[0m\u001b[1;33m\u001b[0m\u001b[0m\n\u001b[1;32m--> 682\u001b[1;33m         \u001b[0mgt_maxflow\u001b[0m\u001b[1;33m.\u001b[0m\u001b[0mpython_entry_point\u001b[0m\u001b[1;33m(\u001b[0m\u001b[0mself\u001b[0m\u001b[1;33m.\u001b[0m\u001b[0mdimacs_graph\u001b[0m\u001b[1;33m,\u001b[0m \u001b[0mself\u001b[0m\u001b[1;33m.\u001b[0m\u001b[0mnum_nodes_each_network\u001b[0m\u001b[1;33m)\u001b[0m\u001b[1;33m\u001b[0m\u001b[0m\n\u001b[0m\u001b[0;32m    683\u001b[0m \u001b[1;33m\u001b[0m\u001b[0m\n\u001b[0;32m    684\u001b[0m \u001b[1;33m\u001b[0m\u001b[0m\n",
      "\u001b[1;31mAttributeError\u001b[0m: 'Sfan' object has no attribute 'dimacs_graph'"
     ]
    }
   ],
   "source": [
    "model.run_maxflow()"
   ]
  },
  {
   "cell_type": "markdown",
   "metadata": {},
   "source": [
    "### Get selected SNPS"
   ]
  },
  {
   "cell_type": "code",
   "execution_count": null,
   "metadata": {},
   "outputs": [],
   "source": []
  },
  {
   "cell_type": "markdown",
   "metadata": {},
   "source": [
    "### Plot selected SNPS"
   ]
  },
  {
   "cell_type": "code",
   "execution_count": null,
   "metadata": {},
   "outputs": [],
   "source": []
  }
 ],
 "metadata": {
  "kernelspec": {
   "display_name": "Python 2",
   "language": "python",
   "name": "python2"
  },
  "language_info": {
   "codemirror_mode": {
    "name": "ipython",
    "version": 2
   },
   "file_extension": ".py",
   "mimetype": "text/x-python",
   "name": "python",
   "nbconvert_exporter": "python",
   "pygments_lexer": "ipython2",
   "version": "2.7.6"
  }
 },
 "nbformat": 4,
 "nbformat_minor": 2
}
